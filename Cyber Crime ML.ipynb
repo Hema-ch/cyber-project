{
 "cells": [
  {
   "cell_type": "code",
   "execution_count": 24,
   "id": "23d0c095",
   "metadata": {
    "scrolled": true
   },
   "outputs": [],
   "source": [
    "import pandas as pd\n",
    "import re\n",
    "from sklearn.model_selection import train_test_split\n",
    "from sklearn.feature_extraction.text import TfidfVectorizer\n",
    "from sklearn.naive_bayes import MultinomialNB\n",
    "from sklearn.tree import DecisionTreeClassifier\n",
    "from sklearn.ensemble import RandomForestClassifier\n",
    "from sklearn.metrics import classification_report"
   ]
  },
  {
   "cell_type": "code",
   "execution_count": 25,
   "id": "cf256ff4",
   "metadata": {},
   "outputs": [],
   "source": [
    "# Load datasets\n",
    "train_data = pd.read_csv('train.csv')  \n",
    "test_data = pd.read_csv('test.csv') "
   ]
  },
  {
   "cell_type": "code",
   "execution_count": 26,
   "id": "d6d25a2a",
   "metadata": {},
   "outputs": [
    {
     "data": {
      "text/html": [
       "<div>\n",
       "<style scoped>\n",
       "    .dataframe tbody tr th:only-of-type {\n",
       "        vertical-align: middle;\n",
       "    }\n",
       "\n",
       "    .dataframe tbody tr th {\n",
       "        vertical-align: top;\n",
       "    }\n",
       "\n",
       "    .dataframe thead th {\n",
       "        text-align: right;\n",
       "    }\n",
       "</style>\n",
       "<table border=\"1\" class=\"dataframe\">\n",
       "  <thead>\n",
       "    <tr style=\"text-align: right;\">\n",
       "      <th></th>\n",
       "      <th>category</th>\n",
       "      <th>sub_category</th>\n",
       "      <th>crimeaditionalinfo</th>\n",
       "    </tr>\n",
       "  </thead>\n",
       "  <tbody>\n",
       "    <tr>\n",
       "      <th>0</th>\n",
       "      <td>Online and Social Media Related Crime</td>\n",
       "      <td>Cyber Bullying  Stalking  Sexting</td>\n",
       "      <td>I had continue received random calls and abusi...</td>\n",
       "    </tr>\n",
       "    <tr>\n",
       "      <th>1</th>\n",
       "      <td>Online Financial Fraud</td>\n",
       "      <td>Fraud CallVishing</td>\n",
       "      <td>The above fraudster is continuously messaging ...</td>\n",
       "    </tr>\n",
       "    <tr>\n",
       "      <th>2</th>\n",
       "      <td>Online Gambling  Betting</td>\n",
       "      <td>Online Gambling  Betting</td>\n",
       "      <td>He is acting like a police and demanding for m...</td>\n",
       "    </tr>\n",
       "    <tr>\n",
       "      <th>3</th>\n",
       "      <td>Online and Social Media Related Crime</td>\n",
       "      <td>Online Job Fraud</td>\n",
       "      <td>In apna Job I have applied for job interview f...</td>\n",
       "    </tr>\n",
       "    <tr>\n",
       "      <th>4</th>\n",
       "      <td>Online Financial Fraud</td>\n",
       "      <td>Fraud CallVishing</td>\n",
       "      <td>I received a call from lady stating that she w...</td>\n",
       "    </tr>\n",
       "  </tbody>\n",
       "</table>\n",
       "</div>"
      ],
      "text/plain": [
       "                                category                       sub_category  \\\n",
       "0  Online and Social Media Related Crime  Cyber Bullying  Stalking  Sexting   \n",
       "1                 Online Financial Fraud                  Fraud CallVishing   \n",
       "2               Online Gambling  Betting           Online Gambling  Betting   \n",
       "3  Online and Social Media Related Crime                   Online Job Fraud   \n",
       "4                 Online Financial Fraud                  Fraud CallVishing   \n",
       "\n",
       "                                  crimeaditionalinfo  \n",
       "0  I had continue received random calls and abusi...  \n",
       "1  The above fraudster is continuously messaging ...  \n",
       "2  He is acting like a police and demanding for m...  \n",
       "3  In apna Job I have applied for job interview f...  \n",
       "4  I received a call from lady stating that she w...  "
      ]
     },
     "execution_count": 26,
     "metadata": {},
     "output_type": "execute_result"
    }
   ],
   "source": [
    "train_data.head()"
   ]
  },
  {
   "cell_type": "code",
   "execution_count": 27,
   "id": "11079472",
   "metadata": {},
   "outputs": [
    {
     "data": {
      "text/html": [
       "<div>\n",
       "<style scoped>\n",
       "    .dataframe tbody tr th:only-of-type {\n",
       "        vertical-align: middle;\n",
       "    }\n",
       "\n",
       "    .dataframe tbody tr th {\n",
       "        vertical-align: top;\n",
       "    }\n",
       "\n",
       "    .dataframe thead th {\n",
       "        text-align: right;\n",
       "    }\n",
       "</style>\n",
       "<table border=\"1\" class=\"dataframe\">\n",
       "  <thead>\n",
       "    <tr style=\"text-align: right;\">\n",
       "      <th></th>\n",
       "      <th>category</th>\n",
       "      <th>sub_category</th>\n",
       "      <th>crimeaditionalinfo</th>\n",
       "    </tr>\n",
       "  </thead>\n",
       "  <tbody>\n",
       "    <tr>\n",
       "      <th>0</th>\n",
       "      <td>RapeGang Rape RGRSexually Abusive Content</td>\n",
       "      <td>NaN</td>\n",
       "      <td>Sir namaskar  mein Ranjit Kumar PatraPaise neh...</td>\n",
       "    </tr>\n",
       "    <tr>\n",
       "      <th>1</th>\n",
       "      <td>Online Financial Fraud</td>\n",
       "      <td>DebitCredit Card FraudSim Swap Fraud</td>\n",
       "      <td>KOTAK MAHINDRA BANK FRAUD\\r\\nFRAUD AMOUNT</td>\n",
       "    </tr>\n",
       "    <tr>\n",
       "      <th>2</th>\n",
       "      <td>Cyber Attack/ Dependent Crimes</td>\n",
       "      <td>SQL Injection</td>\n",
       "      <td>The issue actually started when I got this ema...</td>\n",
       "    </tr>\n",
       "    <tr>\n",
       "      <th>3</th>\n",
       "      <td>Online Financial Fraud</td>\n",
       "      <td>Fraud CallVishing</td>\n",
       "      <td>I am amit kumar from karwi chitrakoot I am tot...</td>\n",
       "    </tr>\n",
       "    <tr>\n",
       "      <th>4</th>\n",
       "      <td>Any Other Cyber Crime</td>\n",
       "      <td>Other</td>\n",
       "      <td>I have ordered  saree and  blouse from rinki s...</td>\n",
       "    </tr>\n",
       "  </tbody>\n",
       "</table>\n",
       "</div>"
      ],
      "text/plain": [
       "                                    category  \\\n",
       "0  RapeGang Rape RGRSexually Abusive Content   \n",
       "1                     Online Financial Fraud   \n",
       "2             Cyber Attack/ Dependent Crimes   \n",
       "3                     Online Financial Fraud   \n",
       "4                      Any Other Cyber Crime   \n",
       "\n",
       "                           sub_category  \\\n",
       "0                                   NaN   \n",
       "1  DebitCredit Card FraudSim Swap Fraud   \n",
       "2                         SQL Injection   \n",
       "3                     Fraud CallVishing   \n",
       "4                                 Other   \n",
       "\n",
       "                                  crimeaditionalinfo  \n",
       "0  Sir namaskar  mein Ranjit Kumar PatraPaise neh...  \n",
       "1          KOTAK MAHINDRA BANK FRAUD\\r\\nFRAUD AMOUNT  \n",
       "2  The issue actually started when I got this ema...  \n",
       "3  I am amit kumar from karwi chitrakoot I am tot...  \n",
       "4  I have ordered  saree and  blouse from rinki s...  "
      ]
     },
     "execution_count": 27,
     "metadata": {},
     "output_type": "execute_result"
    }
   ],
   "source": [
    "test_data.head()"
   ]
  },
  {
   "cell_type": "code",
   "execution_count": 28,
   "id": "d279ed85",
   "metadata": {},
   "outputs": [],
   "source": [
    "def clean_text(text):\n",
    "    if isinstance(text, str):\n",
    "        text = text.lower()\n",
    "        text = re.sub(r'\\s+', ' ', text)\n",
    "        text = re.sub(r'[^\\w\\s]', '', text)  \n",
    "        return text\n",
    "    else:\n",
    "        return ''"
   ]
  },
  {
   "cell_type": "code",
   "execution_count": 29,
   "id": "f5700107",
   "metadata": {},
   "outputs": [],
   "source": [
    "train_data['crimeaditionalinfo'] = train_data['crimeaditionalinfo'].apply(clean_text)\n",
    "test_data['crimeaditionalinfo'] = test_data['crimeaditionalinfo'].apply(clean_text)"
   ]
  },
  {
   "cell_type": "code",
   "execution_count": 31,
   "id": "1a1daa93",
   "metadata": {},
   "outputs": [],
   "source": [
    "# Fill NaN values\n",
    "train_data['sub_category'] = train_data['sub_category'].fillna('Unknown')  # Replace 'Unknown' with a suitable category\n",
    "train_data['crimeaditionalinfo'] = train_data['crimeaditionalinfo'].fillna('')  # Replace with empty string or any suitable default text\n"
   ]
  },
  {
   "cell_type": "code",
   "execution_count": 33,
   "id": "ad5b3927",
   "metadata": {},
   "outputs": [
    {
     "name": "stdout",
     "output_type": "stream",
     "text": [
      "sub_category\n",
      "UPI Related Frauds                                                      26856\n",
      "Other                                                                   10878\n",
      "DebitCredit Card FraudSim Swap Fraud                                    10805\n",
      "Internet Banking Related Fraud                                           8872\n",
      "Unknown                                                                  6591\n",
      "Fraud CallVishing                                                        5803\n",
      "Cyber Bullying  Stalking  Sexting                                        4089\n",
      "EWallet Related Fraud                                                    4047\n",
      "FakeImpersonating Profile                                                2299\n",
      "Profile Hacking Identity Theft                                           2073\n",
      "Cheating by Impersonation                                                1988\n",
      "Unauthorised AccessData Breach                                           1114\n",
      "Online Job Fraud                                                          912\n",
      "DematDepository Fraud                                                     761\n",
      "Tampering with computer source documents                                  567\n",
      "Hacking/Defacement                                                        540\n",
      "Ransomware Attack                                                         534\n",
      "Malware Attack                                                            521\n",
      "SQL Injection                                                             508\n",
      "Denial of Service (DoS)/Distributed Denial of Service (DDOS) attacks      504\n",
      "Data Breach/Theft                                                         484\n",
      "Cryptocurrency Fraud                                                      480\n",
      "Online Gambling  Betting                                                  444\n",
      "Provocative Speech for unlawful acts                                      417\n",
      "Email Hacking                                                             349\n",
      "Business Email CompromiseEmail Takeover                                   290\n",
      "Online Trafficking                                                        183\n",
      "Cyber Terrorism                                                           161\n",
      "EMail Phishing                                                            157\n",
      "Online Matrimonial Fraud                                                  132\n",
      "Damage to computer computer systems etc                                   108\n",
      "Website DefacementHacking                                                  89\n",
      "Ransomware                                                                 56\n",
      "Impersonating Email                                                        44\n",
      "Intimidating Email                                                         29\n",
      "Against Interest of sovereignty or integrity of India                       1\n",
      "Name: count, dtype: int64\n"
     ]
    }
   ],
   "source": [
    "print(train_data['sub_category'].value_counts())"
   ]
  },
  {
   "cell_type": "code",
   "execution_count": null,
   "id": "43ced04d",
   "metadata": {},
   "outputs": [],
   "source": []
  },
  {
   "cell_type": "code",
   "execution_count": 34,
   "id": "bf05ee1c",
   "metadata": {},
   "outputs": [],
   "source": [
    "min_samples = 2"
   ]
  },
  {
   "cell_type": "code",
   "execution_count": 35,
   "id": "c67f0516",
   "metadata": {},
   "outputs": [],
   "source": [
    "class_counts = train_data['sub_category'].value_counts()\n",
    "classes_to_keep = class_counts[class_counts >= min_samples].index\n",
    "train_data = train_data[train_data['sub_category'].isin(classes_to_keep)]"
   ]
  },
  {
   "cell_type": "code",
   "execution_count": 36,
   "id": "fdcbc79c",
   "metadata": {},
   "outputs": [
    {
     "name": "stdout",
     "output_type": "stream",
     "text": [
      "sub_category\n",
      "UPI Related Frauds                                                      26856\n",
      "Other                                                                   10878\n",
      "DebitCredit Card FraudSim Swap Fraud                                    10805\n",
      "Internet Banking Related Fraud                                           8872\n",
      "Unknown                                                                  6591\n",
      "Fraud CallVishing                                                        5803\n",
      "Cyber Bullying  Stalking  Sexting                                        4089\n",
      "EWallet Related Fraud                                                    4047\n",
      "FakeImpersonating Profile                                                2299\n",
      "Profile Hacking Identity Theft                                           2073\n",
      "Cheating by Impersonation                                                1988\n",
      "Unauthorised AccessData Breach                                           1114\n",
      "Online Job Fraud                                                          912\n",
      "DematDepository Fraud                                                     761\n",
      "Tampering with computer source documents                                  567\n",
      "Hacking/Defacement                                                        540\n",
      "Ransomware Attack                                                         534\n",
      "Malware Attack                                                            521\n",
      "SQL Injection                                                             508\n",
      "Denial of Service (DoS)/Distributed Denial of Service (DDOS) attacks      504\n",
      "Data Breach/Theft                                                         484\n",
      "Cryptocurrency Fraud                                                      480\n",
      "Online Gambling  Betting                                                  444\n",
      "Provocative Speech for unlawful acts                                      417\n",
      "Email Hacking                                                             349\n",
      "Business Email CompromiseEmail Takeover                                   290\n",
      "Online Trafficking                                                        183\n",
      "Cyber Terrorism                                                           161\n",
      "EMail Phishing                                                            157\n",
      "Online Matrimonial Fraud                                                  132\n",
      "Damage to computer computer systems etc                                   108\n",
      "Website DefacementHacking                                                  89\n",
      "Ransomware                                                                 56\n",
      "Impersonating Email                                                        44\n",
      "Intimidating Email                                                         29\n",
      "Name: count, dtype: int64\n"
     ]
    }
   ],
   "source": [
    "print(train_data['sub_category'].value_counts())"
   ]
  },
  {
   "cell_type": "code",
   "execution_count": 37,
   "id": "c27c9d74",
   "metadata": {},
   "outputs": [],
   "source": [
    "train_data, val_data = train_test_split(train_data, test_size=0.33, random_state=42, stratify=train_data['sub_category'])"
   ]
  },
  {
   "cell_type": "code",
   "execution_count": 38,
   "id": "c8d1d817",
   "metadata": {},
   "outputs": [],
   "source": [
    "# Initialize TF-IDF Vectorizer\n",
    "tfidf_vectorizer = TfidfVectorizer(max_features=5000)"
   ]
  },
  {
   "cell_type": "code",
   "execution_count": 39,
   "id": "23030b15",
   "metadata": {},
   "outputs": [],
   "source": [
    "# Fit and transform the training data\n",
    "X_train = tfidf_vectorizer.fit_transform(train_data['crimeaditionalinfo'])\n",
    "X_val = tfidf_vectorizer.transform(val_data['crimeaditionalinfo'])\n",
    "X_test = tfidf_vectorizer.transform(test_data['crimeaditionalinfo'])"
   ]
  },
  {
   "cell_type": "code",
   "execution_count": 40,
   "id": "0d53025e",
   "metadata": {},
   "outputs": [],
   "source": [
    "# Target variables\n",
    "y_train = train_data['sub_category']\n",
    "y_val = val_data['sub_category']\n",
    "y_test = test_data['sub_category']"
   ]
  },
  {
   "cell_type": "code",
   "execution_count": 42,
   "id": "4cc1a252",
   "metadata": {},
   "outputs": [],
   "source": [
    "# Function to train and evaluate model\n",
    "def train_and_evaluate_model(model, X_train, y_train, X_val, y_val, model_name):\n",
    "    model.fit(X_train, y_train)\n",
    "    y_pred = model.predict(X_val)\n",
    "    \n",
    "    print(f\"Classification report for {model_name}:\\n\")\n",
    "    print(classification_report(y_val, y_pred))"
   ]
  },
  {
   "cell_type": "code",
   "execution_count": 43,
   "id": "97e82471",
   "metadata": {},
   "outputs": [
    {
     "name": "stdout",
     "output_type": "stream",
     "text": [
      "Classification report for Naive Bayes:\n",
      "\n"
     ]
    },
    {
     "name": "stderr",
     "output_type": "stream",
     "text": [
      "C:\\Users\\deepi\\anaconda3\\Lib\\site-packages\\sklearn\\metrics\\_classification.py:1469: UndefinedMetricWarning: Precision and F-score are ill-defined and being set to 0.0 in labels with no predicted samples. Use `zero_division` parameter to control this behavior.\n",
      "  _warn_prf(average, modifier, msg_start, len(result))\n",
      "C:\\Users\\deepi\\anaconda3\\Lib\\site-packages\\sklearn\\metrics\\_classification.py:1469: UndefinedMetricWarning: Precision and F-score are ill-defined and being set to 0.0 in labels with no predicted samples. Use `zero_division` parameter to control this behavior.\n",
      "  _warn_prf(average, modifier, msg_start, len(result))\n"
     ]
    },
    {
     "name": "stdout",
     "output_type": "stream",
     "text": [
      "                                                                      precision    recall  f1-score   support\n",
      "\n",
      "                             Business Email CompromiseEmail Takeover       0.00      0.00      0.00        96\n",
      "                                           Cheating by Impersonation       0.00      0.00      0.00       656\n",
      "                                                Cryptocurrency Fraud       1.00      0.03      0.05       158\n",
      "                                   Cyber Bullying  Stalking  Sexting       0.39      0.65      0.49      1349\n",
      "                                                     Cyber Terrorism       0.00      0.00      0.00        53\n",
      "                             Damage to computer computer systems etc       0.00      0.00      0.00        36\n",
      "                                                   Data Breach/Theft       0.00      0.00      0.00       160\n",
      "                                DebitCredit Card FraudSim Swap Fraud       0.61      0.54      0.57      3566\n",
      "                                               DematDepository Fraud       0.00      0.00      0.00       251\n",
      "Denial of Service (DoS)/Distributed Denial of Service (DDOS) attacks       0.00      0.00      0.00       166\n",
      "                                                      EMail Phishing       0.00      0.00      0.00        52\n",
      "                                               EWallet Related Fraud       0.29      0.40      0.34      1336\n",
      "                                                       Email Hacking       0.00      0.00      0.00       115\n",
      "                                           FakeImpersonating Profile       0.57      0.19      0.29       759\n",
      "                                                   Fraud CallVishing       0.36      0.10      0.16      1915\n",
      "                                                  Hacking/Defacement       0.15      0.39      0.22       178\n",
      "                                                 Impersonating Email       0.00      0.00      0.00        14\n",
      "                                      Internet Banking Related Fraud       0.66      0.27      0.38      2928\n",
      "                                                  Intimidating Email       0.00      0.00      0.00        10\n",
      "                                                      Malware Attack       0.09      0.03      0.04       172\n",
      "                                            Online Gambling  Betting       0.00      0.00      0.00       146\n",
      "                                                    Online Job Fraud       1.00      0.00      0.01       301\n",
      "                                            Online Matrimonial Fraud       0.00      0.00      0.00        44\n",
      "                                                  Online Trafficking       0.00      0.00      0.00        60\n",
      "                                                               Other       0.28      0.59      0.37      3590\n",
      "                                      Profile Hacking Identity Theft       0.60      0.25      0.35       684\n",
      "                                Provocative Speech for unlawful acts       0.00      0.00      0.00       138\n",
      "                                                          Ransomware       0.00      0.00      0.00        18\n",
      "                                                   Ransomware Attack       0.14      0.19      0.16       176\n",
      "                                                       SQL Injection       0.14      0.07      0.09       168\n",
      "                            Tampering with computer source documents       0.15      0.28      0.19       187\n",
      "                                                  UPI Related Frauds       0.60      0.77      0.68      8863\n",
      "                                      Unauthorised AccessData Breach       0.20      0.15      0.17       368\n",
      "                                                             Unknown       0.98      0.41      0.58      2175\n",
      "                                           Website DefacementHacking       0.00      0.00      0.00        29\n",
      "\n",
      "                                                            accuracy                           0.48     30917\n",
      "                                                           macro avg       0.23      0.15      0.15     30917\n",
      "                                                        weighted avg       0.51      0.48      0.45     30917\n",
      "\n"
     ]
    },
    {
     "name": "stderr",
     "output_type": "stream",
     "text": [
      "C:\\Users\\deepi\\anaconda3\\Lib\\site-packages\\sklearn\\metrics\\_classification.py:1469: UndefinedMetricWarning: Precision and F-score are ill-defined and being set to 0.0 in labels with no predicted samples. Use `zero_division` parameter to control this behavior.\n",
      "  _warn_prf(average, modifier, msg_start, len(result))\n"
     ]
    }
   ],
   "source": [
    "# Naive Bayes\n",
    "naive_bayes_model = MultinomialNB()\n",
    "train_and_evaluate_model(naive_bayes_model, X_train, y_train, X_val, y_val, \"Naive Bayes\")"
   ]
  },
  {
   "cell_type": "code",
   "execution_count": 44,
   "id": "d3b16e2f",
   "metadata": {},
   "outputs": [
    {
     "name": "stdout",
     "output_type": "stream",
     "text": [
      "Classification report for Decision Tree:\n",
      "\n",
      "                                                                      precision    recall  f1-score   support\n",
      "\n",
      "                             Business Email CompromiseEmail Takeover       0.00      0.00      0.00        96\n",
      "                                           Cheating by Impersonation       0.06      0.05      0.06       656\n",
      "                                                Cryptocurrency Fraud       0.16      0.13      0.14       158\n",
      "                                   Cyber Bullying  Stalking  Sexting       0.34      0.35      0.35      1349\n",
      "                                                     Cyber Terrorism       0.00      0.00      0.00        53\n",
      "                             Damage to computer computer systems etc       0.00      0.00      0.00        36\n",
      "                                                   Data Breach/Theft       0.14      0.16      0.15       160\n",
      "                                DebitCredit Card FraudSim Swap Fraud       0.58      0.56      0.57      3566\n",
      "                                               DematDepository Fraud       0.05      0.04      0.05       251\n",
      "Denial of Service (DoS)/Distributed Denial of Service (DDOS) attacks       0.16      0.17      0.17       166\n",
      "                                                      EMail Phishing       0.00      0.00      0.00        52\n",
      "                                               EWallet Related Fraud       0.34      0.31      0.32      1336\n",
      "                                                       Email Hacking       0.24      0.21      0.23       115\n",
      "                                           FakeImpersonating Profile       0.25      0.22      0.23       759\n",
      "                                                   Fraud CallVishing       0.17      0.16      0.17      1915\n",
      "                                                  Hacking/Defacement       0.17      0.16      0.16       178\n",
      "                                                 Impersonating Email       0.00      0.00      0.00        14\n",
      "                                      Internet Banking Related Fraud       0.50      0.46      0.48      2928\n",
      "                                                  Intimidating Email       0.17      0.10      0.12        10\n",
      "                                                      Malware Attack       0.12      0.12      0.12       172\n",
      "                                            Online Gambling  Betting       0.04      0.03      0.03       146\n",
      "                                                    Online Job Fraud       0.11      0.08      0.09       301\n",
      "                                            Online Matrimonial Fraud       0.00      0.00      0.00        44\n",
      "                                                  Online Trafficking       0.00      0.00      0.00        60\n",
      "                                                               Other       0.28      0.28      0.28      3590\n",
      "                                      Profile Hacking Identity Theft       0.29      0.27      0.28       684\n",
      "                                Provocative Speech for unlawful acts       0.07      0.06      0.06       138\n",
      "                                                          Ransomware       0.00      0.00      0.00        18\n",
      "                                                   Ransomware Attack       0.14      0.12      0.13       176\n",
      "                                                       SQL Injection       0.19      0.18      0.18       168\n",
      "                            Tampering with computer source documents       0.12      0.12      0.12       187\n",
      "                                                  UPI Related Frauds       0.61      0.69      0.65      8863\n",
      "                                      Unauthorised AccessData Breach       0.18      0.16      0.17       368\n",
      "                                                             Unknown       0.57      0.56      0.57      2175\n",
      "                                           Website DefacementHacking       0.04      0.03      0.04        29\n",
      "\n",
      "                                                            accuracy                           0.44     30917\n",
      "                                                           macro avg       0.17      0.17      0.17     30917\n",
      "                                                        weighted avg       0.43      0.44      0.43     30917\n",
      "\n"
     ]
    }
   ],
   "source": [
    "decision_tree_model = DecisionTreeClassifier(random_state=42)\n",
    "train_and_evaluate_model(decision_tree_model, X_train, y_train, X_val, y_val, \"Decision Tree\")"
   ]
  },
  {
   "cell_type": "code",
   "execution_count": 45,
   "id": "8b41489a",
   "metadata": {},
   "outputs": [
    {
     "name": "stdout",
     "output_type": "stream",
     "text": [
      "Classification report for Random Forest:\n",
      "\n"
     ]
    },
    {
     "name": "stderr",
     "output_type": "stream",
     "text": [
      "C:\\Users\\deepi\\anaconda3\\Lib\\site-packages\\sklearn\\metrics\\_classification.py:1469: UndefinedMetricWarning: Precision and F-score are ill-defined and being set to 0.0 in labels with no predicted samples. Use `zero_division` parameter to control this behavior.\n",
      "  _warn_prf(average, modifier, msg_start, len(result))\n",
      "C:\\Users\\deepi\\anaconda3\\Lib\\site-packages\\sklearn\\metrics\\_classification.py:1469: UndefinedMetricWarning: Precision and F-score are ill-defined and being set to 0.0 in labels with no predicted samples. Use `zero_division` parameter to control this behavior.\n",
      "  _warn_prf(average, modifier, msg_start, len(result))\n"
     ]
    },
    {
     "name": "stdout",
     "output_type": "stream",
     "text": [
      "                                                                      precision    recall  f1-score   support\n",
      "\n",
      "                             Business Email CompromiseEmail Takeover       0.00      0.00      0.00        96\n",
      "                                           Cheating by Impersonation       0.44      0.01      0.01       656\n",
      "                                                Cryptocurrency Fraud       0.92      0.07      0.13       158\n",
      "                                   Cyber Bullying  Stalking  Sexting       0.48      0.54      0.51      1349\n",
      "                                                     Cyber Terrorism       0.00      0.00      0.00        53\n",
      "                             Damage to computer computer systems etc       0.00      0.00      0.00        36\n",
      "                                                   Data Breach/Theft       0.13      0.15      0.14       160\n",
      "                                DebitCredit Card FraudSim Swap Fraud       0.69      0.68      0.68      3566\n",
      "                                               DematDepository Fraud       0.67      0.02      0.03       251\n",
      "Denial of Service (DoS)/Distributed Denial of Service (DDOS) attacks       0.17      0.17      0.17       166\n",
      "                                                      EMail Phishing       0.00      0.00      0.00        52\n",
      "                                               EWallet Related Fraud       0.73      0.32      0.44      1336\n",
      "                                                       Email Hacking       0.71      0.04      0.08       115\n",
      "                                           FakeImpersonating Profile       0.52      0.29      0.38       759\n",
      "                                                   Fraud CallVishing       0.35      0.09      0.14      1915\n",
      "                                                  Hacking/Defacement       0.19      0.19      0.19       178\n",
      "                                                 Impersonating Email       0.00      0.00      0.00        14\n",
      "                                      Internet Banking Related Fraud       0.73      0.52      0.61      2928\n",
      "                                                  Intimidating Email       0.00      0.00      0.00        10\n",
      "                                                      Malware Attack       0.12      0.12      0.12       172\n",
      "                                            Online Gambling  Betting       1.00      0.01      0.01       146\n",
      "                                                    Online Job Fraud       0.33      0.01      0.01       301\n",
      "                                            Online Matrimonial Fraud       0.00      0.00      0.00        44\n",
      "                                                  Online Trafficking       0.00      0.00      0.00        60\n",
      "                                                               Other       0.34      0.45      0.39      3590\n",
      "                                      Profile Hacking Identity Theft       0.57      0.37      0.45       684\n",
      "                                Provocative Speech for unlawful acts       1.00      0.03      0.06       138\n",
      "                                                          Ransomware       0.00      0.00      0.00        18\n",
      "                                                   Ransomware Attack       0.13      0.11      0.12       176\n",
      "                                                       SQL Injection       0.16      0.15      0.15       168\n",
      "                            Tampering with computer source documents       0.18      0.17      0.17       187\n",
      "                                                  UPI Related Frauds       0.56      0.89      0.69      8863\n",
      "                                      Unauthorised AccessData Breach       0.54      0.09      0.15       368\n",
      "                                                             Unknown       0.80      0.55      0.65      2175\n",
      "                                           Website DefacementHacking       1.00      0.03      0.07        29\n",
      "\n",
      "                                                            accuracy                           0.54     30917\n",
      "                                                           macro avg       0.38      0.17      0.19     30917\n",
      "                                                        weighted avg       0.55      0.54      0.50     30917\n",
      "\n"
     ]
    },
    {
     "name": "stderr",
     "output_type": "stream",
     "text": [
      "C:\\Users\\deepi\\anaconda3\\Lib\\site-packages\\sklearn\\metrics\\_classification.py:1469: UndefinedMetricWarning: Precision and F-score are ill-defined and being set to 0.0 in labels with no predicted samples. Use `zero_division` parameter to control this behavior.\n",
      "  _warn_prf(average, modifier, msg_start, len(result))\n"
     ]
    }
   ],
   "source": [
    "random_forest_model = RandomForestClassifier(random_state=42)\n",
    "train_and_evaluate_model(random_forest_model, X_train, y_train, X_val, y_val, \"Random Forest\")"
   ]
  },
  {
   "cell_type": "code",
   "execution_count": 54,
   "id": "3299c3d4",
   "metadata": {},
   "outputs": [],
   "source": [
    "def evaluate_final_model(model, X_test, y_test, model_name):\n",
    "    y_test = y_test.dropna()\n",
    "    y_test_pred = model.predict(X_test[y_test.index])  \n",
    "    print(f\"Unique classes in y_test: {set(y_test)}\")\n",
    "    print(f\"Unique classes in y_test_pred: {set(y_test_pred)}\")\n",
    "    unknown_classes = set(y_test_pred) - set(y_test)\n",
    "    if unknown_classes:\n",
    "        print(f\"Warning: Unknown classes predicted: {unknown_classes}\")\n",
    "    valid_classes = set(y_test)  \n",
    "    predicted_classes = set(y_test_pred)  \n",
    "    all_classes = valid_classes.intersection(predicted_classes)\n",
    "    if 'Unknown' in all_classes:\n",
    "        all_classes.remove('Unknown')\n",
    "    print(f\"Final Classification report for {model_name} on Test Data:\\n\")\n",
    "    print(classification_report(y_test, y_test_pred, labels=list(all_classes)))"
   ]
  },
  {
   "cell_type": "code",
   "execution_count": 55,
   "id": "fd1ba76b",
   "metadata": {},
   "outputs": [
    {
     "name": "stdout",
     "output_type": "stream",
     "text": [
      "Unique classes in y_test: {'Website DefacementHacking', 'Unauthorised AccessData Breach', 'Fraud CallVishing', 'UPI Related Frauds', 'Internet Banking Related Fraud', 'Online Matrimonial Fraud', 'Denial of Service (DoS)/Distributed Denial of Service (DDOS) attacks', 'Cyber Bullying  Stalking  Sexting', 'DematDepository Fraud', 'Provocative Speech for unlawful acts', 'EMail Phishing', 'Damage to computer computer systems etc', 'Other', 'Profile Hacking Identity Theft', 'Business Email CompromiseEmail Takeover', 'Cheating by Impersonation', 'Online Job Fraud', 'Online Trafficking', 'Tampering with computer source documents', 'FakeImpersonating Profile', 'Cyber Terrorism', 'Malware Attack', 'Impersonating Email', 'Computer Generated CSAM/CSEM', 'Hacking/Defacement', 'Online Gambling  Betting', 'Cryptocurrency Fraud', 'Intimidating Email', 'EWallet Related Fraud', 'SQL Injection', 'Ransomware Attack', 'DebitCredit Card FraudSim Swap Fraud', 'Sexual Harassment', 'Ransomware', 'Data Breach/Theft', 'Email Hacking', 'Cyber Blackmailing & Threatening'}\n",
      "Unique classes in y_test_pred: {'Unauthorised AccessData Breach', 'Fraud CallVishing', 'UPI Related Frauds', 'Internet Banking Related Fraud', 'Cyber Bullying  Stalking  Sexting', 'Other', 'Profile Hacking Identity Theft', 'Cheating by Impersonation', 'Online Job Fraud', 'Tampering with computer source documents', 'FakeImpersonating Profile', 'Malware Attack', 'Unknown', 'Hacking/Defacement', 'Cryptocurrency Fraud', 'EWallet Related Fraud', 'SQL Injection', 'Ransomware Attack', 'DebitCredit Card FraudSim Swap Fraud'}\n",
      "Warning: Unknown classes predicted: {'Unknown'}\n",
      "Final Classification report for Naive Bayes on Test Data:\n",
      "\n",
      "                                          precision    recall  f1-score   support\n",
      "\n",
      "                   EWallet Related Fraud       0.29      0.41      0.34      1338\n",
      "               Cheating by Impersonation       0.20      0.00      0.00       719\n",
      "                        Online Job Fraud       0.75      0.01      0.02       294\n",
      "                      Hacking/Defacement       0.15      0.37      0.21       200\n",
      "                           SQL Injection       0.10      0.05      0.06       167\n",
      "                       Ransomware Attack       0.14      0.19      0.16       186\n",
      "Tampering with computer source documents       0.10      0.21      0.14       194\n",
      "          Unauthorised AccessData Breach       0.23      0.16      0.19       370\n",
      "    DebitCredit Card FraudSim Swap Fraud       0.62      0.53      0.57      3556\n",
      "                       Fraud CallVishing       0.37      0.12      0.18      1827\n",
      "                      UPI Related Frauds       0.61      0.78      0.69      8890\n",
      "          Internet Banking Related Fraud       0.67      0.28      0.39      2973\n",
      "       Cyber Bullying  Stalking  Sexting       0.57      0.67      0.62      1366\n",
      "               FakeImpersonating Profile       0.66      0.18      0.29       763\n",
      "                    Cryptocurrency Fraud       1.00      0.03      0.06       166\n",
      "                          Malware Attack       0.18      0.06      0.09       170\n",
      "                                   Other       0.29      0.58      0.39      3670\n",
      "          Profile Hacking Identity Theft       0.61      0.22      0.32       751\n",
      "\n",
      "                               micro avg       0.48      0.51      0.49     27600\n",
      "                               macro avg       0.42      0.27      0.26     27600\n",
      "                            weighted avg       0.52      0.51      0.47     27600\n",
      "\n"
     ]
    }
   ],
   "source": [
    "evaluate_final_model(naive_bayes_model, X_test, y_test, \"Naive Bayes\")"
   ]
  },
  {
   "cell_type": "code",
   "execution_count": 56,
   "id": "ec974ff8",
   "metadata": {},
   "outputs": [
    {
     "name": "stdout",
     "output_type": "stream",
     "text": [
      "Unique classes in y_test: {'Website DefacementHacking', 'Unauthorised AccessData Breach', 'Fraud CallVishing', 'UPI Related Frauds', 'Internet Banking Related Fraud', 'Online Matrimonial Fraud', 'Denial of Service (DoS)/Distributed Denial of Service (DDOS) attacks', 'Cyber Bullying  Stalking  Sexting', 'DematDepository Fraud', 'Provocative Speech for unlawful acts', 'EMail Phishing', 'Damage to computer computer systems etc', 'Other', 'Profile Hacking Identity Theft', 'Business Email CompromiseEmail Takeover', 'Cheating by Impersonation', 'Online Job Fraud', 'Online Trafficking', 'Tampering with computer source documents', 'FakeImpersonating Profile', 'Cyber Terrorism', 'Malware Attack', 'Impersonating Email', 'Computer Generated CSAM/CSEM', 'Hacking/Defacement', 'Online Gambling  Betting', 'Cryptocurrency Fraud', 'Intimidating Email', 'EWallet Related Fraud', 'SQL Injection', 'Ransomware Attack', 'DebitCredit Card FraudSim Swap Fraud', 'Sexual Harassment', 'Ransomware', 'Data Breach/Theft', 'Email Hacking', 'Cyber Blackmailing & Threatening'}\n",
      "Unique classes in y_test_pred: {'Website DefacementHacking', 'Unauthorised AccessData Breach', 'Fraud CallVishing', 'UPI Related Frauds', 'Internet Banking Related Fraud', 'Online Matrimonial Fraud', 'Denial of Service (DoS)/Distributed Denial of Service (DDOS) attacks', 'Cyber Bullying  Stalking  Sexting', 'DematDepository Fraud', 'Provocative Speech for unlawful acts', 'EMail Phishing', 'Damage to computer computer systems etc', 'Other', 'Profile Hacking Identity Theft', 'Business Email CompromiseEmail Takeover', 'Cheating by Impersonation', 'Online Job Fraud', 'Online Trafficking', 'Tampering with computer source documents', 'FakeImpersonating Profile', 'Cyber Terrorism', 'Malware Attack', 'Impersonating Email', 'Unknown', 'Hacking/Defacement', 'Online Gambling  Betting', 'Cryptocurrency Fraud', 'Intimidating Email', 'EWallet Related Fraud', 'SQL Injection', 'Ransomware Attack', 'DebitCredit Card FraudSim Swap Fraud', 'Ransomware', 'Data Breach/Theft', 'Email Hacking'}\n",
      "Warning: Unknown classes predicted: {'Unknown'}\n",
      "Final Classification report for Decision Tree on Test Data:\n",
      "\n",
      "                                                                      precision    recall  f1-score   support\n",
      "\n",
      "                                           Website DefacementHacking       0.00      0.00      0.00        39\n",
      "                                      Unauthorised AccessData Breach       0.16      0.14      0.15       370\n",
      "                                                   Fraud CallVishing       0.16      0.15      0.15      1827\n",
      "                                                  UPI Related Frauds       0.61      0.69      0.65      8890\n",
      "                                      Internet Banking Related Fraud       0.52      0.47      0.49      2973\n",
      "                                            Online Matrimonial Fraud       0.03      0.03      0.03        38\n",
      "Denial of Service (DoS)/Distributed Denial of Service (DDOS) attacks       0.18      0.17      0.18       187\n",
      "                                   Cyber Bullying  Stalking  Sexting       0.40      0.32      0.35      1366\n",
      "                                               DematDepository Fraud       0.02      0.02      0.02       222\n",
      "                                Provocative Speech for unlawful acts       0.12      0.09      0.10       130\n",
      "                                                      EMail Phishing       0.00      0.00      0.00        54\n",
      "                             Damage to computer computer systems etc       0.08      0.03      0.04        39\n",
      "                                                               Other       0.28      0.27      0.27      3670\n",
      "                                      Profile Hacking Identity Theft       0.32      0.27      0.29       751\n",
      "                             Business Email CompromiseEmail Takeover       0.01      0.01      0.01        90\n",
      "                                           Cheating by Impersonation       0.07      0.05      0.05       719\n",
      "                                                    Online Job Fraud       0.10      0.08      0.09       294\n",
      "                                                  Online Trafficking       0.00      0.00      0.00        61\n",
      "                            Tampering with computer source documents       0.12      0.12      0.12       194\n",
      "                                           FakeImpersonating Profile       0.30      0.25      0.27       763\n",
      "                                                     Cyber Terrorism       0.02      0.02      0.02        52\n",
      "                                                      Malware Attack       0.14      0.13      0.13       170\n",
      "                                                 Impersonating Email       0.00      0.00      0.00        13\n",
      "                                                  Hacking/Defacement       0.16      0.15      0.16       200\n",
      "                                            Online Gambling  Betting       0.04      0.03      0.03       134\n",
      "                                                Cryptocurrency Fraud       0.26      0.24      0.25       166\n",
      "                                                  Intimidating Email       0.00      0.00      0.00        11\n",
      "                                               EWallet Related Fraud       0.35      0.31      0.33      1338\n",
      "                                                       SQL Injection       0.11      0.12      0.12       167\n",
      "                                                   Ransomware Attack       0.12      0.14      0.13       186\n",
      "                                DebitCredit Card FraudSim Swap Fraud       0.60      0.56      0.58      3556\n",
      "                                                          Ransomware       0.20      0.17      0.18        18\n",
      "                                                   Data Breach/Theft       0.13      0.14      0.14       171\n",
      "                                                       Email Hacking       0.25      0.17      0.20       130\n",
      "\n",
      "                                                           micro avg       0.44      0.43      0.43     28989\n",
      "                                                           macro avg       0.17      0.16      0.16     28989\n",
      "                                                        weighted avg       0.43      0.43      0.43     28989\n",
      "\n"
     ]
    }
   ],
   "source": [
    "evaluate_final_model(decision_tree_model, X_test, y_test, \"Decision Tree\")"
   ]
  },
  {
   "cell_type": "code",
   "execution_count": 57,
   "id": "d6131c5b",
   "metadata": {},
   "outputs": [
    {
     "name": "stdout",
     "output_type": "stream",
     "text": [
      "Unique classes in y_test: {'Website DefacementHacking', 'Unauthorised AccessData Breach', 'Fraud CallVishing', 'UPI Related Frauds', 'Internet Banking Related Fraud', 'Online Matrimonial Fraud', 'Denial of Service (DoS)/Distributed Denial of Service (DDOS) attacks', 'Cyber Bullying  Stalking  Sexting', 'DematDepository Fraud', 'Provocative Speech for unlawful acts', 'EMail Phishing', 'Damage to computer computer systems etc', 'Other', 'Profile Hacking Identity Theft', 'Business Email CompromiseEmail Takeover', 'Cheating by Impersonation', 'Online Job Fraud', 'Online Trafficking', 'Tampering with computer source documents', 'FakeImpersonating Profile', 'Cyber Terrorism', 'Malware Attack', 'Impersonating Email', 'Computer Generated CSAM/CSEM', 'Hacking/Defacement', 'Online Gambling  Betting', 'Cryptocurrency Fraud', 'Intimidating Email', 'EWallet Related Fraud', 'SQL Injection', 'Ransomware Attack', 'DebitCredit Card FraudSim Swap Fraud', 'Sexual Harassment', 'Ransomware', 'Data Breach/Theft', 'Email Hacking', 'Cyber Blackmailing & Threatening'}\n",
      "Unique classes in y_test_pred: {'Unauthorised AccessData Breach', 'Fraud CallVishing', 'UPI Related Frauds', 'Internet Banking Related Fraud', 'Denial of Service (DoS)/Distributed Denial of Service (DDOS) attacks', 'Provocative Speech for unlawful acts', 'Cyber Bullying  Stalking  Sexting', 'DematDepository Fraud', 'EMail Phishing', 'Other', 'Profile Hacking Identity Theft', 'Business Email CompromiseEmail Takeover', 'Cheating by Impersonation', 'Online Job Fraud', 'Tampering with computer source documents', 'FakeImpersonating Profile', 'Cyber Terrorism', 'Malware Attack', 'Impersonating Email', 'Unknown', 'Hacking/Defacement', 'Online Gambling  Betting', 'Cryptocurrency Fraud', 'EWallet Related Fraud', 'SQL Injection', 'Ransomware Attack', 'DebitCredit Card FraudSim Swap Fraud', 'Data Breach/Theft', 'Email Hacking'}\n",
      "Warning: Unknown classes predicted: {'Unknown'}\n",
      "Final Classification report for Random Forest on Test Data:\n",
      "\n",
      "                                                                      precision    recall  f1-score   support\n",
      "\n",
      "                                      Unauthorised AccessData Breach       0.59      0.11      0.18       370\n",
      "                                                   Fraud CallVishing       0.33      0.08      0.13      1827\n",
      "                                                  UPI Related Frauds       0.57      0.90      0.70      8890\n",
      "                                      Internet Banking Related Fraud       0.73      0.52      0.61      2973\n",
      "Denial of Service (DoS)/Distributed Denial of Service (DDOS) attacks       0.17      0.17      0.17       187\n",
      "                                Provocative Speech for unlawful acts       0.86      0.05      0.09       130\n",
      "                                   Cyber Bullying  Stalking  Sexting       0.64      0.55      0.59      1366\n",
      "                                               DematDepository Fraud       0.23      0.01      0.03       222\n",
      "                                                      EMail Phishing       0.00      0.00      0.00        54\n",
      "                                                               Other       0.35      0.45      0.39      3670\n",
      "                                      Profile Hacking Identity Theft       0.59      0.36      0.44       751\n",
      "                             Business Email CompromiseEmail Takeover       1.00      0.01      0.02        90\n",
      "                                           Cheating by Impersonation       0.53      0.01      0.02       719\n",
      "                                                    Online Job Fraud       0.30      0.01      0.02       294\n",
      "                            Tampering with computer source documents       0.15      0.16      0.16       194\n",
      "                                           FakeImpersonating Profile       0.63      0.32      0.42       763\n",
      "                                                     Cyber Terrorism       0.00      0.00      0.00        52\n",
      "                                                      Malware Attack       0.13      0.13      0.13       170\n",
      "                                                 Impersonating Email       0.00      0.00      0.00        13\n",
      "                                                  Hacking/Defacement       0.16      0.12      0.14       200\n",
      "                                            Online Gambling  Betting       0.00      0.00      0.00       134\n",
      "                                                Cryptocurrency Fraud       0.92      0.13      0.23       166\n",
      "                                               EWallet Related Fraud       0.74      0.32      0.44      1338\n",
      "                                                       SQL Injection       0.10      0.10      0.10       167\n",
      "                                                   Ransomware Attack       0.15      0.16      0.15       186\n",
      "                                DebitCredit Card FraudSim Swap Fraud       0.69      0.69      0.69      3556\n",
      "                                                   Data Breach/Theft       0.18      0.19      0.19       171\n",
      "                                                       Email Hacking       0.80      0.03      0.06       130\n",
      "\n",
      "                                                           micro avg       0.55      0.55      0.55     28783\n",
      "                                                           macro avg       0.41      0.20      0.22     28783\n",
      "                                                        weighted avg       0.55      0.55      0.50     28783\n",
      "\n"
     ]
    }
   ],
   "source": [
    "evaluate_final_model(random_forest_model, X_test, y_test, \"Random Forest\")"
   ]
  },
  {
   "cell_type": "code",
   "execution_count": 60,
   "id": "c12d77f7",
   "metadata": {},
   "outputs": [],
   "source": [
    "from sklearn.svm import SVC\n",
    "from xgboost import XGBClassifier"
   ]
  },
  {
   "cell_type": "code",
   "execution_count": 61,
   "id": "cca33bdb",
   "metadata": {},
   "outputs": [
    {
     "data": {
      "text/html": [
       "<style>#sk-container-id-1 {color: black;}#sk-container-id-1 pre{padding: 0;}#sk-container-id-1 div.sk-toggleable {background-color: white;}#sk-container-id-1 label.sk-toggleable__label {cursor: pointer;display: block;width: 100%;margin-bottom: 0;padding: 0.3em;box-sizing: border-box;text-align: center;}#sk-container-id-1 label.sk-toggleable__label-arrow:before {content: \"▸\";float: left;margin-right: 0.25em;color: #696969;}#sk-container-id-1 label.sk-toggleable__label-arrow:hover:before {color: black;}#sk-container-id-1 div.sk-estimator:hover label.sk-toggleable__label-arrow:before {color: black;}#sk-container-id-1 div.sk-toggleable__content {max-height: 0;max-width: 0;overflow: hidden;text-align: left;background-color: #f0f8ff;}#sk-container-id-1 div.sk-toggleable__content pre {margin: 0.2em;color: black;border-radius: 0.25em;background-color: #f0f8ff;}#sk-container-id-1 input.sk-toggleable__control:checked~div.sk-toggleable__content {max-height: 200px;max-width: 100%;overflow: auto;}#sk-container-id-1 input.sk-toggleable__control:checked~label.sk-toggleable__label-arrow:before {content: \"▾\";}#sk-container-id-1 div.sk-estimator input.sk-toggleable__control:checked~label.sk-toggleable__label {background-color: #d4ebff;}#sk-container-id-1 div.sk-label input.sk-toggleable__control:checked~label.sk-toggleable__label {background-color: #d4ebff;}#sk-container-id-1 input.sk-hidden--visually {border: 0;clip: rect(1px 1px 1px 1px);clip: rect(1px, 1px, 1px, 1px);height: 1px;margin: -1px;overflow: hidden;padding: 0;position: absolute;width: 1px;}#sk-container-id-1 div.sk-estimator {font-family: monospace;background-color: #f0f8ff;border: 1px dotted black;border-radius: 0.25em;box-sizing: border-box;margin-bottom: 0.5em;}#sk-container-id-1 div.sk-estimator:hover {background-color: #d4ebff;}#sk-container-id-1 div.sk-parallel-item::after {content: \"\";width: 100%;border-bottom: 1px solid gray;flex-grow: 1;}#sk-container-id-1 div.sk-label:hover label.sk-toggleable__label {background-color: #d4ebff;}#sk-container-id-1 div.sk-serial::before {content: \"\";position: absolute;border-left: 1px solid gray;box-sizing: border-box;top: 0;bottom: 0;left: 50%;z-index: 0;}#sk-container-id-1 div.sk-serial {display: flex;flex-direction: column;align-items: center;background-color: white;padding-right: 0.2em;padding-left: 0.2em;position: relative;}#sk-container-id-1 div.sk-item {position: relative;z-index: 1;}#sk-container-id-1 div.sk-parallel {display: flex;align-items: stretch;justify-content: center;background-color: white;position: relative;}#sk-container-id-1 div.sk-item::before, #sk-container-id-1 div.sk-parallel-item::before {content: \"\";position: absolute;border-left: 1px solid gray;box-sizing: border-box;top: 0;bottom: 0;left: 50%;z-index: -1;}#sk-container-id-1 div.sk-parallel-item {display: flex;flex-direction: column;z-index: 1;position: relative;background-color: white;}#sk-container-id-1 div.sk-parallel-item:first-child::after {align-self: flex-end;width: 50%;}#sk-container-id-1 div.sk-parallel-item:last-child::after {align-self: flex-start;width: 50%;}#sk-container-id-1 div.sk-parallel-item:only-child::after {width: 0;}#sk-container-id-1 div.sk-dashed-wrapped {border: 1px dashed gray;margin: 0 0.4em 0.5em 0.4em;box-sizing: border-box;padding-bottom: 0.4em;background-color: white;}#sk-container-id-1 div.sk-label label {font-family: monospace;font-weight: bold;display: inline-block;line-height: 1.2em;}#sk-container-id-1 div.sk-label-container {text-align: center;}#sk-container-id-1 div.sk-container {/* jupyter's `normalize.less` sets `[hidden] { display: none; }` but bootstrap.min.css set `[hidden] { display: none !important; }` so we also need the `!important` here to be able to override the default hidden behavior on the sphinx rendered scikit-learn.org. See: https://github.com/scikit-learn/scikit-learn/issues/21755 */display: inline-block !important;position: relative;}#sk-container-id-1 div.sk-text-repr-fallback {display: none;}</style><div id=\"sk-container-id-1\" class=\"sk-top-container\"><div class=\"sk-text-repr-fallback\"><pre>SVC(kernel=&#x27;linear&#x27;, random_state=42)</pre><b>In a Jupyter environment, please rerun this cell to show the HTML representation or trust the notebook. <br />On GitHub, the HTML representation is unable to render, please try loading this page with nbviewer.org.</b></div><div class=\"sk-container\" hidden><div class=\"sk-item\"><div class=\"sk-estimator sk-toggleable\"><input class=\"sk-toggleable__control sk-hidden--visually\" id=\"sk-estimator-id-1\" type=\"checkbox\" checked><label for=\"sk-estimator-id-1\" class=\"sk-toggleable__label sk-toggleable__label-arrow\">SVC</label><div class=\"sk-toggleable__content\"><pre>SVC(kernel=&#x27;linear&#x27;, random_state=42)</pre></div></div></div></div></div>"
      ],
      "text/plain": [
       "SVC(kernel='linear', random_state=42)"
      ]
     },
     "execution_count": 61,
     "metadata": {},
     "output_type": "execute_result"
    }
   ],
   "source": [
    "svm_model = SVC(kernel='linear', random_state=42)\n",
    "svm_model.fit(X_train, y_train)"
   ]
  },
  {
   "cell_type": "code",
   "execution_count": 62,
   "id": "5a80bd03",
   "metadata": {},
   "outputs": [
    {
     "name": "stdout",
     "output_type": "stream",
     "text": [
      "Classification report for Support Vector Machine:\n",
      "\n"
     ]
    },
    {
     "name": "stderr",
     "output_type": "stream",
     "text": [
      "C:\\Users\\deepi\\anaconda3\\Lib\\site-packages\\sklearn\\metrics\\_classification.py:1469: UndefinedMetricWarning: Precision and F-score are ill-defined and being set to 0.0 in labels with no predicted samples. Use `zero_division` parameter to control this behavior.\n",
      "  _warn_prf(average, modifier, msg_start, len(result))\n",
      "C:\\Users\\deepi\\anaconda3\\Lib\\site-packages\\sklearn\\metrics\\_classification.py:1469: UndefinedMetricWarning: Precision and F-score are ill-defined and being set to 0.0 in labels with no predicted samples. Use `zero_division` parameter to control this behavior.\n",
      "  _warn_prf(average, modifier, msg_start, len(result))\n"
     ]
    },
    {
     "name": "stdout",
     "output_type": "stream",
     "text": [
      "                                                                      precision    recall  f1-score   support\n",
      "\n",
      "                             Business Email CompromiseEmail Takeover       0.00      0.00      0.00        96\n",
      "                                           Cheating by Impersonation       0.15      0.01      0.01       656\n",
      "                                                Cryptocurrency Fraud       0.59      0.44      0.51       158\n",
      "                                   Cyber Bullying  Stalking  Sexting       0.48      0.54      0.50      1349\n",
      "                                                     Cyber Terrorism       0.00      0.00      0.00        53\n",
      "                             Damage to computer computer systems etc       0.00      0.00      0.00        36\n",
      "                                                   Data Breach/Theft       0.21      0.03      0.04       160\n",
      "                                DebitCredit Card FraudSim Swap Fraud       0.70      0.67      0.69      3566\n",
      "                                               DematDepository Fraud       0.00      0.00      0.00       251\n",
      "Denial of Service (DoS)/Distributed Denial of Service (DDOS) attacks       0.24      0.06      0.10       166\n",
      "                                                      EMail Phishing       0.67      0.04      0.07        52\n",
      "                                               EWallet Related Fraud       0.70      0.40      0.51      1336\n",
      "                                                       Email Hacking       0.48      0.37      0.42       115\n",
      "                                           FakeImpersonating Profile       0.50      0.35      0.41       759\n",
      "                                                   Fraud CallVishing       0.30      0.24      0.27      1915\n",
      "                                                  Hacking/Defacement       0.13      0.21      0.16       178\n",
      "                                                 Impersonating Email       0.00      0.00      0.00        14\n",
      "                                      Internet Banking Related Fraud       0.72      0.52      0.61      2928\n",
      "                                                  Intimidating Email       0.00      0.00      0.00        10\n",
      "                                                      Malware Attack       0.05      0.01      0.02       172\n",
      "                                            Online Gambling  Betting       1.00      0.06      0.12       146\n",
      "                                                    Online Job Fraud       0.27      0.10      0.15       301\n",
      "                                            Online Matrimonial Fraud       0.00      0.00      0.00        44\n",
      "                                                  Online Trafficking       0.00      0.00      0.00        60\n",
      "                                                               Other       0.35      0.47      0.40      3590\n",
      "                                      Profile Hacking Identity Theft       0.54      0.42      0.47       684\n",
      "                                Provocative Speech for unlawful acts       0.71      0.07      0.13       138\n",
      "                                                          Ransomware       0.60      0.17      0.26        18\n",
      "                                                   Ransomware Attack       0.07      0.02      0.03       176\n",
      "                                                       SQL Injection       0.17      0.16      0.17       168\n",
      "                            Tampering with computer source documents       0.14      0.45      0.21       187\n",
      "                                                  UPI Related Frauds       0.62      0.85      0.72      8863\n",
      "                                      Unauthorised AccessData Breach       0.42      0.19      0.26       368\n",
      "                                                             Unknown       0.74      0.63      0.68      2175\n",
      "                                           Website DefacementHacking       0.00      0.00      0.00        29\n",
      "\n",
      "                                                            accuracy                           0.56     30917\n",
      "                                                           macro avg       0.33      0.21      0.23     30917\n",
      "                                                        weighted avg       0.55      0.56      0.53     30917\n",
      "\n"
     ]
    },
    {
     "name": "stderr",
     "output_type": "stream",
     "text": [
      "C:\\Users\\deepi\\anaconda3\\Lib\\site-packages\\sklearn\\metrics\\_classification.py:1469: UndefinedMetricWarning: Precision and F-score are ill-defined and being set to 0.0 in labels with no predicted samples. Use `zero_division` parameter to control this behavior.\n",
      "  _warn_prf(average, modifier, msg_start, len(result))\n"
     ]
    }
   ],
   "source": [
    "train_and_evaluate_model(svm_model, X_train, y_train, X_val, y_val, \"Support Vector Machine\")"
   ]
  },
  {
   "cell_type": "code",
   "execution_count": 63,
   "id": "d6a1d25a",
   "metadata": {},
   "outputs": [
    {
     "name": "stdout",
     "output_type": "stream",
     "text": [
      "Unique classes in y_test: {'Website DefacementHacking', 'Unauthorised AccessData Breach', 'Fraud CallVishing', 'UPI Related Frauds', 'Internet Banking Related Fraud', 'Online Matrimonial Fraud', 'Denial of Service (DoS)/Distributed Denial of Service (DDOS) attacks', 'Cyber Bullying  Stalking  Sexting', 'DematDepository Fraud', 'Provocative Speech for unlawful acts', 'EMail Phishing', 'Damage to computer computer systems etc', 'Other', 'Profile Hacking Identity Theft', 'Business Email CompromiseEmail Takeover', 'Cheating by Impersonation', 'Online Job Fraud', 'Online Trafficking', 'Tampering with computer source documents', 'FakeImpersonating Profile', 'Cyber Terrorism', 'Malware Attack', 'Impersonating Email', 'Computer Generated CSAM/CSEM', 'Hacking/Defacement', 'Online Gambling  Betting', 'Cryptocurrency Fraud', 'Intimidating Email', 'EWallet Related Fraud', 'SQL Injection', 'Ransomware Attack', 'DebitCredit Card FraudSim Swap Fraud', 'Sexual Harassment', 'Ransomware', 'Data Breach/Theft', 'Email Hacking', 'Cyber Blackmailing & Threatening'}\n",
      "Unique classes in y_test_pred: {'Unauthorised AccessData Breach', 'Fraud CallVishing', 'UPI Related Frauds', 'Internet Banking Related Fraud', 'Denial of Service (DoS)/Distributed Denial of Service (DDOS) attacks', 'Provocative Speech for unlawful acts', 'Cyber Bullying  Stalking  Sexting', 'EMail Phishing', 'Damage to computer computer systems etc', 'Other', 'Profile Hacking Identity Theft', 'Business Email CompromiseEmail Takeover', 'Cheating by Impersonation', 'Online Job Fraud', 'Tampering with computer source documents', 'FakeImpersonating Profile', 'Malware Attack', 'Unknown', 'Hacking/Defacement', 'Online Gambling  Betting', 'Cryptocurrency Fraud', 'EWallet Related Fraud', 'SQL Injection', 'Ransomware Attack', 'DebitCredit Card FraudSim Swap Fraud', 'Ransomware', 'Data Breach/Theft', 'Email Hacking'}\n",
      "Warning: Unknown classes predicted: {'Unknown'}\n",
      "Final Classification report for Support Vector Machine on Test Data:\n",
      "\n",
      "                                                                      precision    recall  f1-score   support\n",
      "\n",
      "                                      Unauthorised AccessData Breach       0.38      0.16      0.23       370\n",
      "                                                   Fraud CallVishing       0.30      0.25      0.28      1827\n",
      "                                                  UPI Related Frauds       0.63      0.85      0.73      8890\n",
      "                                      Internet Banking Related Fraud       0.74      0.53      0.62      2973\n",
      "Denial of Service (DoS)/Distributed Denial of Service (DDOS) attacks       0.10      0.03      0.04       187\n",
      "                                Provocative Speech for unlawful acts       0.60      0.07      0.12       130\n",
      "                                   Cyber Bullying  Stalking  Sexting       0.64      0.52      0.57      1366\n",
      "                                                      EMail Phishing       1.00      0.04      0.07        54\n",
      "                             Damage to computer computer systems etc       0.33      0.03      0.05        39\n",
      "                                                               Other       0.35      0.44      0.39      3670\n",
      "                                      Profile Hacking Identity Theft       0.57      0.40      0.47       751\n",
      "                             Business Email CompromiseEmail Takeover       1.00      0.01      0.02        90\n",
      "                                           Cheating by Impersonation       0.31      0.02      0.03       719\n",
      "                                                    Online Job Fraud       0.32      0.13      0.19       294\n",
      "                            Tampering with computer source documents       0.10      0.34      0.16       194\n",
      "                                           FakeImpersonating Profile       0.59      0.36      0.44       763\n",
      "                                                      Malware Attack       0.17      0.05      0.07       170\n",
      "                                                  Hacking/Defacement       0.17      0.27      0.21       200\n",
      "                                            Online Gambling  Betting       0.75      0.04      0.08       134\n",
      "                                                Cryptocurrency Fraud       0.62      0.55      0.59       166\n",
      "                                               EWallet Related Fraud       0.66      0.39      0.49      1338\n",
      "                                                       SQL Injection       0.09      0.08      0.09       167\n",
      "                                                   Ransomware Attack       0.13      0.03      0.05       186\n",
      "                                DebitCredit Card FraudSim Swap Fraud       0.70      0.67      0.69      3556\n",
      "                                                          Ransomware       0.50      0.17      0.25        18\n",
      "                                                   Data Breach/Theft       0.12      0.01      0.02       171\n",
      "                                                       Email Hacking       0.53      0.32      0.40       130\n",
      "\n",
      "                                                           micro avg       0.56      0.56      0.56     28553\n",
      "                                                           macro avg       0.46      0.25      0.27     28553\n",
      "                                                        weighted avg       0.56      0.56      0.54     28553\n",
      "\n"
     ]
    }
   ],
   "source": [
    "evaluate_final_model(svm_model, X_test, y_test, \"Support Vector Machine\")"
   ]
  },
  {
   "cell_type": "code",
   "execution_count": null,
   "id": "7375ae26",
   "metadata": {},
   "outputs": [],
   "source": []
  }
 ],
 "metadata": {
  "kernelspec": {
   "display_name": "Python 3 (ipykernel)",
   "language": "python",
   "name": "python3"
  },
  "language_info": {
   "codemirror_mode": {
    "name": "ipython",
    "version": 3
   },
   "file_extension": ".py",
   "mimetype": "text/x-python",
   "name": "python",
   "nbconvert_exporter": "python",
   "pygments_lexer": "ipython3",
   "version": "3.11.5"
  }
 },
 "nbformat": 4,
 "nbformat_minor": 5
}
